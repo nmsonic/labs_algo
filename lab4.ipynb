{
 "cells": [
  {
   "cell_type": "code",
   "execution_count": 1,
   "metadata": {},
   "outputs": [],
   "source": [
    "import numpy as np\n",
    "import pandas as pd\n",
    "import tqdm\n",
    "from scipy.optimize import minimize, least_squares, differential_evolution, dual_annealing,basinhopping \n",
    "import matplotlib.pyplot as plt\n",
    "from matplotlib import rc"
   ]
  },
  {
   "cell_type": "code",
   "execution_count": 2,
   "metadata": {},
   "outputs": [],
   "source": [
    "Max_epochs=1000\n",
    "Epsilon=1e-3"
   ]
  },
  {
   "cell_type": "code",
   "execution_count": 3,
   "metadata": {},
   "outputs": [],
   "source": [
    "#generate the noisy data\n",
    "X = np.arange(0, 3.003, 0.003)\n",
    "def generator(X):\n",
    "    f_x = 1/((X ** 2) - (3 * X) + 2)\n",
    "    f_x = np.clip(f_x, -100, 100)\n",
    "    noise = np.random.normal(size=X.shape)\n",
    "    return f_x, f_x + noise\n",
    "y_k, y = generator(X)\n",
    "data = pd.DataFrame({'X': X, 'y_k': y_k, 'y': y})"
   ]
  },
  {
   "cell_type": "code",
   "execution_count": 4,
   "metadata": {},
   "outputs": [
    {
     "data": {
      "text/html": [
       "<div>\n",
       "<style scoped>\n",
       "    .dataframe tbody tr th:only-of-type {\n",
       "        vertical-align: middle;\n",
       "    }\n",
       "\n",
       "    .dataframe tbody tr th {\n",
       "        vertical-align: top;\n",
       "    }\n",
       "\n",
       "    .dataframe thead th {\n",
       "        text-align: right;\n",
       "    }\n",
       "</style>\n",
       "<table border=\"1\" class=\"dataframe\">\n",
       "  <thead>\n",
       "    <tr style=\"text-align: right;\">\n",
       "      <th></th>\n",
       "      <th>X</th>\n",
       "      <th>y_k</th>\n",
       "      <th>y</th>\n",
       "    </tr>\n",
       "  </thead>\n",
       "  <tbody>\n",
       "    <tr>\n",
       "      <th>0</th>\n",
       "      <td>0.000</td>\n",
       "      <td>0.500000</td>\n",
       "      <td>-0.594474</td>\n",
       "    </tr>\n",
       "    <tr>\n",
       "      <th>1</th>\n",
       "      <td>0.003</td>\n",
       "      <td>0.502258</td>\n",
       "      <td>0.290986</td>\n",
       "    </tr>\n",
       "    <tr>\n",
       "      <th>2</th>\n",
       "      <td>0.006</td>\n",
       "      <td>0.504532</td>\n",
       "      <td>-0.773406</td>\n",
       "    </tr>\n",
       "    <tr>\n",
       "      <th>3</th>\n",
       "      <td>0.009</td>\n",
       "      <td>0.506822</td>\n",
       "      <td>0.764767</td>\n",
       "    </tr>\n",
       "    <tr>\n",
       "      <th>4</th>\n",
       "      <td>0.012</td>\n",
       "      <td>0.509128</td>\n",
       "      <td>1.090343</td>\n",
       "    </tr>\n",
       "    <tr>\n",
       "      <th>...</th>\n",
       "      <td>...</td>\n",
       "      <td>...</td>\n",
       "      <td>...</td>\n",
       "    </tr>\n",
       "    <tr>\n",
       "      <th>996</th>\n",
       "      <td>2.988</td>\n",
       "      <td>0.509128</td>\n",
       "      <td>0.517494</td>\n",
       "    </tr>\n",
       "    <tr>\n",
       "      <th>997</th>\n",
       "      <td>2.991</td>\n",
       "      <td>0.506822</td>\n",
       "      <td>-1.302592</td>\n",
       "    </tr>\n",
       "    <tr>\n",
       "      <th>998</th>\n",
       "      <td>2.994</td>\n",
       "      <td>0.504532</td>\n",
       "      <td>-0.453362</td>\n",
       "    </tr>\n",
       "    <tr>\n",
       "      <th>999</th>\n",
       "      <td>2.997</td>\n",
       "      <td>0.502258</td>\n",
       "      <td>0.961011</td>\n",
       "    </tr>\n",
       "    <tr>\n",
       "      <th>1000</th>\n",
       "      <td>3.000</td>\n",
       "      <td>0.500000</td>\n",
       "      <td>-0.026831</td>\n",
       "    </tr>\n",
       "  </tbody>\n",
       "</table>\n",
       "<p>1001 rows × 3 columns</p>\n",
       "</div>"
      ],
      "text/plain": [
       "          X       y_k         y\n",
       "0     0.000  0.500000 -0.594474\n",
       "1     0.003  0.502258  0.290986\n",
       "2     0.006  0.504532 -0.773406\n",
       "3     0.009  0.506822  0.764767\n",
       "4     0.012  0.509128  1.090343\n",
       "...     ...       ...       ...\n",
       "996   2.988  0.509128  0.517494\n",
       "997   2.991  0.506822 -1.302592\n",
       "998   2.994  0.504532 -0.453362\n",
       "999   2.997  0.502258  0.961011\n",
       "1000  3.000  0.500000 -0.026831\n",
       "\n",
       "[1001 rows x 3 columns]"
      ]
     },
     "execution_count": 4,
     "metadata": {},
     "output_type": "execute_result"
    }
   ],
   "source": [
    "data"
   ]
  },
  {
   "cell_type": "code",
   "execution_count": 5,
   "metadata": {},
   "outputs": [],
   "source": [
    "def function(X, params):\n",
    "    params = np.asarray(params)\n",
    "    if params.ndim == 1:\n",
    "        return np.clip((params[0] * X + params[1]) / (X ** 2 + params[2] * X + params[3]), -100, 100)\n",
    "    if params.ndim == 2:\n",
    "        return np.clip(\n",
    "            (params[:, 0] * X[:, None] + params[:, 1]) / (X[:, None] ** 2 + params[:, 2] * X[:, None] + params[:, 3]),\n",
    "            -100,\n",
    "            100,\n",
    "        )"
   ]
  },
  {
   "cell_type": "code",
   "execution_count": 6,
   "metadata": {},
   "outputs": [],
   "source": [
    "def loss(func, X, params, y_k, reduction=True):\n",
    "    y = func(X, params)\n",
    "    if params.ndim == 1:\n",
    "        if reduction:\n",
    "            return np.sum((y - y_k) ** 2)\n",
    "        else:\n",
    "            return y - y_k\n",
    "    if params.ndim == 2:\n",
    "        return np.sum((y - y_k[:, None]) ** 2, axis=0)"
   ]
  },
  {
   "cell_type": "code",
   "execution_count": 7,
   "metadata": {},
   "outputs": [],
   "source": [
    "def nelder_mead(X, y_k, params_init, epsilon=Epsilon, max_epochs=Max_epochs):\n",
    "    def func(x):\n",
    "        return loss(eval('function'), X=X, params=x, y_k=y_k)\n",
    "\n",
    "    result = minimize(\n",
    "        func,\n",
    "        x0=params_init,\n",
    "        method='nelder-mead',\n",
    "        options={'maxiter': max_epochs, 'maxfev': max_epochs, 'xatol': epsilon, 'fatol': epsilon},\n",
    "    )\n",
    "    return {'args': result.x, 'iterations': result.nit, 'function evaluations': result.nfev}"
   ]
  },
  {
   "cell_type": "code",
   "execution_count": 8,
   "metadata": {},
   "outputs": [],
   "source": [
    "def lm(X, y_k, params_init, epsilon=Epsilon, max_epochs=Max_epochs):\n",
    "    def func(x):\n",
    "        return loss(eval('function'), X, params=x, y_k=y_k, reduction=False)\n",
    "\n",
    "    def grad(x):\n",
    "        nom = x[0] * X + x[1]\n",
    "        denom = X ** 2 + x[2] * X + x[3]\n",
    "        zero_grad = ((nom / denom) > 100) & ((nom / denom) < 100)\n",
    "        grad_ = []\n",
    "        grad_.append(X / denom)\n",
    "        grad_.append(1 / denom)\n",
    "        grad_.append(-nom * X / (denom ** 2))\n",
    "        grad_.append(-nom / (denom ** 2))\n",
    "        grad_ = np.asarray(grad_).T\n",
    "        grad_[zero_grad] = 0\n",
    "        return grad_\n",
    "\n",
    "    result = least_squares(\n",
    "        func, x0=params_init, jac=grad, method='lm', ftol=epsilon, gtol=epsilon, max_nfev=max_epochs\n",
    "    )\n",
    "    return {'args': result.x, 'iterations': result.nfev+result.njev, 'function evaluations': result.nfev + result.njev}"
   ]
  },
  {
   "cell_type": "code",
   "execution_count": 9,
   "metadata": {},
   "outputs": [],
   "source": [
    "def diff_evolution(X, y_k, params_init, epsilon=Epsilon, max_epochs=Max_epochs):\n",
    "    def func(x):\n",
    "        return loss(eval('function'), X=X, params=x, y_k=y_k)\n",
    "    \n",
    "    bounds = list(zip([-3] * 4, [3] * 4))\n",
    "    init_pop = np.vstack([np.random.uniform(-4, 4, (7, 4)), params_init.reshape(1, -1)])\n",
    "\n",
    "    result = differential_evolution(\n",
    "        func, bounds=bounds, maxiter=max_epochs, init=init_pop, atol=epsilon, seed=554\n",
    "    )\n",
    "    return {'args': result.x, 'iterations': result.nit, 'function evaluations': result.nfev}"
   ]
  },
  {
   "cell_type": "code",
   "execution_count": 10,
   "metadata": {},
   "outputs": [],
   "source": [
    "def simulated_annealing(X, y_k, params_init, epsilon=Epsilon, max_epochs=Max_epochs):\n",
    "    def func(x):\n",
    "        return loss(eval('function'), X=X, params=x, y_k=y_k)\n",
    "    \n",
    "    bounds = list(zip([-3] * 4, [3] * 4))\n",
    "\n",
    "    result = dual_annealing(\n",
    "        func, bounds=bounds, maxiter=max_epochs,seed=554\n",
    "    )\n",
    "    return {'args': result.x, 'iterations': result.nit, 'function evaluations': result.nfev}"
   ]
  },
  {
   "cell_type": "code",
   "execution_count": 11,
   "metadata": {},
   "outputs": [
    {
     "name": "stderr",
     "output_type": "stream",
     "text": [
      "100%|██████████| 4/4 [00:19<00:00,  4.92s/it]\n"
     ]
    }
   ],
   "source": [
    "init_params = np.asarray([0, 1, -3, 1])\n",
    "data_opt = []\n",
    "for method in tqdm.tqdm(['nelder_mead', 'lm', 'diff_evolution','simulated_annealing' ]):\n",
    "    opt_res = eval(method)(data[\"X\"], data[\"y\"], init_params, Max_epochs)\n",
    "    data_opt.append(\n",
    "        {\n",
    "            'method': method,\n",
    "            'params': opt_res['args'].tolist(),\n",
    "            'iterations': opt_res['iterations'],\n",
    "            'function evaluations': opt_res['function evaluations']\n",
    "        }\n",
    "    )\n",
    "\n",
    "approx = pd.DataFrame(data_opt)"
   ]
  },
  {
   "cell_type": "code",
   "execution_count": 12,
   "metadata": {},
   "outputs": [
    {
     "data": {
      "text/html": [
       "<div>\n",
       "<style scoped>\n",
       "    .dataframe tbody tr th:only-of-type {\n",
       "        vertical-align: middle;\n",
       "    }\n",
       "\n",
       "    .dataframe tbody tr th {\n",
       "        vertical-align: top;\n",
       "    }\n",
       "\n",
       "    .dataframe thead th {\n",
       "        text-align: right;\n",
       "    }\n",
       "</style>\n",
       "<table border=\"1\" class=\"dataframe\">\n",
       "  <thead>\n",
       "    <tr style=\"text-align: right;\">\n",
       "      <th></th>\n",
       "      <th>method</th>\n",
       "      <th>params</th>\n",
       "      <th>iterations</th>\n",
       "      <th>function evaluations</th>\n",
       "    </tr>\n",
       "  </thead>\n",
       "  <tbody>\n",
       "    <tr>\n",
       "      <th>0</th>\n",
       "      <td>nelder_mead</td>\n",
       "      <td>[0.03027003257126748, 0.994046526283421, -3.00...</td>\n",
       "      <td>27</td>\n",
       "      <td>60</td>\n",
       "    </tr>\n",
       "    <tr>\n",
       "      <th>1</th>\n",
       "      <td>lm</td>\n",
       "      <td>[0.03, 1.0, -3.01, 2.0]</td>\n",
       "      <td>2</td>\n",
       "      <td>2</td>\n",
       "    </tr>\n",
       "    <tr>\n",
       "      <th>2</th>\n",
       "      <td>diff_evolution</td>\n",
       "      <td>[0.001986777751842445, 0.9945018218467174, -3....</td>\n",
       "      <td>78</td>\n",
       "      <td>802</td>\n",
       "    </tr>\n",
       "    <tr>\n",
       "      <th>3</th>\n",
       "      <td>simulated_annealing</td>\n",
       "      <td>[-1.054851884963102, 1.0544549242861276, -1.99...</td>\n",
       "      <td>1000</td>\n",
       "      <td>10091</td>\n",
       "    </tr>\n",
       "  </tbody>\n",
       "</table>\n",
       "</div>"
      ],
      "text/plain": [
       "                method                                             params  \\\n",
       "0          nelder_mead  [0.03027003257126748, 0.994046526283421, -3.00...   \n",
       "1                   lm                            [0.03, 1.0, -3.01, 2.0]   \n",
       "2       diff_evolution  [0.001986777751842445, 0.9945018218467174, -3....   \n",
       "3  simulated_annealing  [-1.054851884963102, 1.0544549242861276, -1.99...   \n",
       "\n",
       "   iterations  function evaluations  \n",
       "0          27                    60  \n",
       "1           2                     2  \n",
       "2          78                   802  \n",
       "3        1000                 10091  "
      ]
     },
     "execution_count": 12,
     "metadata": {},
     "output_type": "execute_result"
    }
   ],
   "source": [
    "approx"
   ]
  },
  {
   "cell_type": "code",
   "execution_count": 13,
   "metadata": {},
   "outputs": [],
   "source": [
    "plt.rcParams['figure.figsize'] = (10, 6)\n",
    "rc('font', family='serif', serif='Times New Roman')\n",
    "METHODS = {'nelder_mead': 'Nelder-Mead',\n",
    "           'lm': 'Levenberg-Marquardt',\n",
    "           'diff_evolution': 'Differential Evolution',\n",
    "          'simulated_annealing': 'Simulated annealing'}"
   ]
  },
  {
   "cell_type": "code",
   "execution_count": 14,
   "metadata": {},
   "outputs": [
    {
     "data": {
      "image/png": "[encoded data removed]",
      "text/plain": [
       "<Figure size 720x432 with 1 Axes>"
      ]
     },
     "metadata": {
      "needs_background": "light"
     },
     "output_type": "display_data"
    }
   ],
   "source": [
    "plt.scatter(data['X'], data['y'], c='black', label='Generated data')\n",
    "plt.grid()\n",
    "for method, color,linewidth in zip(['nelder_mead', 'lm', 'diff_evolution', 'simulated_annealing'],\n",
    "                         ['cyan', 'magenta', 'yellow','green'],[8,6,4,2]):\n",
    "    row = approx[approx['method'] == method]\n",
    "    iters = row['iterations'].values[0]\n",
    "    params = row['params'].values[0]\n",
    "    approx_y = function(data['X'], params)\n",
    "    plt.plot(data['X'], approx_y, c=color,linewidth=linewidth, label=f'{METHODS[method]}, iterations = {iters}')\n",
    "\n",
    "plt.ylim([-150, 200])\n",
    "plt.xticks(fontsize=14)\n",
    "plt.yticks(fontsize=14)\n",
    "plt.legend(loc='best',fontsize=15)\n",
    "plt.suptitle('Сomparison of the results', fontsize=20)\n",
    "plt.savefig(fname='Сomparison of the results.png', format='png')\n",
    "\n"
   ]
  },
  {
   "cell_type": "code",
   "execution_count": null,
   "metadata": {},
   "outputs": [],
   "source": []
  },
  {
   "cell_type": "code",
   "execution_count": null,
   "metadata": {},
   "outputs": [],
   "source": []
  },
  {
   "cell_type": "code",
   "execution_count": null,
   "metadata": {},
   "outputs": [],
   "source": []
  }
 ],
 "metadata": {
  "kernelspec": {
   "display_name": "Python 3",
   "language": "python",
   "name": "python3"
  },
  "language_info": {
   "codemirror_mode": {
    "name": "ipython",
    "version": 3
   },
   "file_extension": ".py",
   "mimetype": "text/x-python",
   "name": "python",
   "nbconvert_exporter": "python",
   "pygments_lexer": "ipython3",
   "version": "3.7.8"
  }
 },
 "nbformat": 4,
 "nbformat_minor": 4
}
